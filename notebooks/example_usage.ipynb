{
 "cells": [
  {
   "cell_type": "markdown",
   "id": "d7ca5dd9",
   "metadata": {},
   "source": [
    "# Example usage"
   ]
  },
  {
   "cell_type": "code",
   "execution_count": 1,
   "id": "aa374cac",
   "metadata": {},
   "outputs": [],
   "source": [
    "from phil.deck import Deck, Hand\n",
    "from phil.table import LookupTable"
   ]
  },
  {
   "cell_type": "code",
   "execution_count": 3,
   "id": "eaf37319",
   "metadata": {},
   "outputs": [],
   "source": [
    "deck = Deck()"
   ]
  },
  {
   "cell_type": "code",
   "execution_count": 6,
   "id": "fc492753",
   "metadata": {},
   "outputs": [
    {
     "data": {
      "text/plain": [
       "Deck([J♤, K♤, A♤, Q♤, 5♡, T♡, 9♡, A♧, J♢, T♤])"
      ]
     },
     "execution_count": 6,
     "metadata": {},
     "output_type": "execute_result"
    }
   ],
   "source": [
    "deck[-10:]"
   ]
  },
  {
   "cell_type": "code",
   "execution_count": 4,
   "id": "56e81193",
   "metadata": {},
   "outputs": [],
   "source": [
    "hand = Hand(deck.draw(5))"
   ]
  },
  {
   "cell_type": "code",
   "execution_count": 5,
   "id": "a051b81c",
   "metadata": {},
   "outputs": [
    {
     "data": {
      "text/plain": [
       "Hand(9♤, 9♧, 2♤, 7♡, J♡)"
      ]
     },
     "execution_count": 5,
     "metadata": {},
     "output_type": "execute_result"
    }
   ],
   "source": [
    "hand"
   ]
  },
  {
   "cell_type": "code",
   "execution_count": 7,
   "id": "31f6dcd3",
   "metadata": {},
   "outputs": [],
   "source": [
    "table = LookupTable()"
   ]
  },
  {
   "cell_type": "code",
   "execution_count": 8,
   "id": "f4b7c7ad",
   "metadata": {},
   "outputs": [
    {
     "data": {
      "text/plain": [
       "4579"
      ]
     },
     "execution_count": 8,
     "metadata": {},
     "output_type": "execute_result"
    }
   ],
   "source": [
    "table.find(hand)"
   ]
  },
  {
   "cell_type": "code",
   "execution_count": 9,
   "id": "e38b0b53",
   "metadata": {},
   "outputs": [],
   "source": [
    "royal_flush = Hand.from_string(\"ah kh qh jh th\")"
   ]
  },
  {
   "cell_type": "code",
   "execution_count": 10,
   "id": "577c4424",
   "metadata": {},
   "outputs": [
    {
     "data": {
      "text/plain": [
       "1"
      ]
     },
     "execution_count": 10,
     "metadata": {},
     "output_type": "execute_result"
    }
   ],
   "source": [
    "table.find(royal_flush)"
   ]
  },
  {
   "cell_type": "code",
   "execution_count": null,
   "id": "d338a1af",
   "metadata": {},
   "outputs": [],
   "source": []
  }
 ],
 "metadata": {
  "kernelspec": {
   "display_name": "Python 3 (ipykernel)",
   "language": "python",
   "name": "python3"
  },
  "language_info": {
   "codemirror_mode": {
    "name": "ipython",
    "version": 3
   },
   "file_extension": ".py",
   "mimetype": "text/x-python",
   "name": "python",
   "nbconvert_exporter": "python",
   "pygments_lexer": "ipython3",
   "version": "3.10.0"
  }
 },
 "nbformat": 4,
 "nbformat_minor": 5
}
