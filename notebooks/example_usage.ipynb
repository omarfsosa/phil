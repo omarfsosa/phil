{
 "cells": [
  {
   "cell_type": "markdown",
   "id": "4b52cdeb",
   "metadata": {},
   "source": [
    "# Example usage"
   ]
  },
  {
   "cell_type": "code",
   "execution_count": 1,
   "id": "aea451af",
   "metadata": {},
   "outputs": [],
   "source": [
    "import math\n",
    "import random\n",
    "import itertools"
   ]
  },
  {
   "cell_type": "code",
   "execution_count": 2,
   "id": "b1abd980",
   "metadata": {},
   "outputs": [],
   "source": [
    "from tqdm.notebook import tqdm"
   ]
  },
  {
   "cell_type": "code",
   "execution_count": 3,
   "id": "9d95305d",
   "metadata": {},
   "outputs": [],
   "source": [
    "from phil.deck import Deck, Hand\n",
    "from phil.table import LookupTable"
   ]
  },
  {
   "cell_type": "code",
   "execution_count": 4,
   "id": "2758d87a",
   "metadata": {},
   "outputs": [],
   "source": [
    "deck = Deck()"
   ]
  },
  {
   "cell_type": "code",
   "execution_count": 5,
   "id": "50d86d78",
   "metadata": {},
   "outputs": [
    {
     "data": {
      "text/plain": [
       "Deck([K♡, 8♡, 5♤, 9♢, A♤, 2♧, 3♤, 6♢, 3♧, 6♤])"
      ]
     },
     "execution_count": 5,
     "metadata": {},
     "output_type": "execute_result"
    }
   ],
   "source": [
    "deck[-10:]"
   ]
  },
  {
   "cell_type": "code",
   "execution_count": 6,
   "id": "25b10f2a",
   "metadata": {},
   "outputs": [],
   "source": [
    "hand = Hand(deck.draw(5))"
   ]
  },
  {
   "cell_type": "code",
   "execution_count": 7,
   "id": "c040818c",
   "metadata": {},
   "outputs": [
    {
     "data": {
      "text/plain": [
       "Hand(6♤, 3♧, 6♢, 3♤, 2♧)"
      ]
     },
     "execution_count": 7,
     "metadata": {},
     "output_type": "execute_result"
    }
   ],
   "source": [
    "hand"
   ]
  },
  {
   "cell_type": "code",
   "execution_count": 8,
   "id": "cd0533b3",
   "metadata": {},
   "outputs": [],
   "source": [
    "table = LookupTable()"
   ]
  },
  {
   "cell_type": "code",
   "execution_count": 9,
   "id": "26c0677d",
   "metadata": {},
   "outputs": [
    {
     "name": "stdout",
     "output_type": "stream",
     "text": [
      "CPU times: user 17 µs, sys: 1 µs, total: 18 µs\n",
      "Wall time: 19.1 µs\n"
     ]
    },
    {
     "data": {
      "text/plain": [
       "3248"
      ]
     },
     "execution_count": 9,
     "metadata": {},
     "output_type": "execute_result"
    }
   ],
   "source": [
    "%%time\n",
    "table.find(hand)"
   ]
  },
  {
   "cell_type": "code",
   "execution_count": 10,
   "id": "3274e45d",
   "metadata": {},
   "outputs": [],
   "source": [
    "royal_flush = Hand.from_string(\"ah kh qh jh th\")"
   ]
  },
  {
   "cell_type": "code",
   "execution_count": 11,
   "id": "55ba6389",
   "metadata": {},
   "outputs": [
    {
     "name": "stdout",
     "output_type": "stream",
     "text": [
      "CPU times: user 11 µs, sys: 0 ns, total: 11 µs\n",
      "Wall time: 11.7 µs\n"
     ]
    },
    {
     "data": {
      "text/plain": [
       "1"
      ]
     },
     "execution_count": 11,
     "metadata": {},
     "output_type": "execute_result"
    }
   ],
   "source": [
    "%%time\n",
    "table.find(royal_flush.cards)"
   ]
  },
  {
   "cell_type": "code",
   "execution_count": 12,
   "id": "c3f252f8",
   "metadata": {},
   "outputs": [],
   "source": [
    "cards = random.sample(deck, 6)"
   ]
  },
  {
   "cell_type": "code",
   "execution_count": 13,
   "id": "ff116b03",
   "metadata": {},
   "outputs": [
    {
     "name": "stdout",
     "output_type": "stream",
     "text": [
      "CPU times: user 18 µs, sys: 0 ns, total: 18 µs\n",
      "Wall time: 20 µs\n"
     ]
    },
    {
     "data": {
      "text/plain": [
       "4657"
      ]
     },
     "execution_count": 13,
     "metadata": {},
     "output_type": "execute_result"
    }
   ],
   "source": [
    "%%time\n",
    "table.find(cards)"
   ]
  },
  {
   "cell_type": "code",
   "execution_count": 14,
   "id": "6d868f19",
   "metadata": {},
   "outputs": [],
   "source": [
    "num_simulations = 100_000"
   ]
  },
  {
   "cell_type": "code",
   "execution_count": 15,
   "id": "872c05a3",
   "metadata": {},
   "outputs": [],
   "source": [
    "deck = Deck()"
   ]
  },
  {
   "cell_type": "code",
   "execution_count": 16,
   "id": "51cf39a4",
   "metadata": {},
   "outputs": [
    {
     "data": {
      "application/vnd.jupyter.widget-view+json": {
       "model_id": "ebdea45c93674bcf959da42a5c7892b2",
       "version_major": 2,
       "version_minor": 0
      },
      "text/plain": [
       "  0%|          | 0/100000 [00:00<?, ?it/s]"
      ]
     },
     "metadata": {},
     "output_type": "display_data"
    },
    {
     "name": "stdout",
     "output_type": "stream",
     "text": [
      "CPU times: user 1.32 s, sys: 199 ms, total: 1.52 s\n",
      "Wall time: 1.7 s\n"
     ]
    }
   ],
   "source": [
    "%%time\n",
    "for _ in tqdm(range(num_simulations)):\n",
    "    cards = random.sample(deck, 7)\n",
    "    ranking = table.find(hand)"
   ]
  },
  {
   "cell_type": "code",
   "execution_count": null,
   "id": "7a8bee16",
   "metadata": {},
   "outputs": [],
   "source": []
  }
 ],
 "metadata": {
  "kernelspec": {
   "display_name": "Python 3 (ipykernel)",
   "language": "python",
   "name": "python3"
  },
  "language_info": {
   "codemirror_mode": {
    "name": "ipython",
    "version": 3
   },
   "file_extension": ".py",
   "mimetype": "text/x-python",
   "name": "python",
   "nbconvert_exporter": "python",
   "pygments_lexer": "ipython3",
   "version": "3.10.0"
  }
 },
 "nbformat": 4,
 "nbformat_minor": 5
}
