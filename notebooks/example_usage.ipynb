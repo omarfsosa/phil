{
 "cells": [
  {
   "cell_type": "markdown",
   "id": "6b336a98",
   "metadata": {},
   "source": [
    "# Example usage"
   ]
  },
  {
   "cell_type": "code",
   "execution_count": 1,
   "id": "37462e13",
   "metadata": {},
   "outputs": [],
   "source": [
    "import math\n",
    "import random\n",
    "import itertools"
   ]
  },
  {
   "cell_type": "code",
   "execution_count": 2,
   "id": "f8aeb848",
   "metadata": {},
   "outputs": [],
   "source": [
    "from tqdm.notebook import tqdm"
   ]
  },
  {
   "cell_type": "code",
   "execution_count": 3,
   "id": "161432fa",
   "metadata": {},
   "outputs": [],
   "source": [
    "from phil.deck import Deck, Hand\n",
    "from phil.table import LookupTable"
   ]
  },
  {
   "cell_type": "code",
   "execution_count": 4,
   "id": "54fe0bf7",
   "metadata": {},
   "outputs": [],
   "source": [
    "deck = Deck()"
   ]
  },
  {
   "cell_type": "code",
   "execution_count": 5,
   "id": "1a0ae9ed",
   "metadata": {},
   "outputs": [
    {
     "data": {
      "text/plain": [
       "Deck([4♡, 3♧, 8♡, 3♡, 8♢, J♡, J♧, T♤, 3♢, Q♢])"
      ]
     },
     "execution_count": 5,
     "metadata": {},
     "output_type": "execute_result"
    }
   ],
   "source": [
    "deck[-10:]"
   ]
  },
  {
   "cell_type": "code",
   "execution_count": 6,
   "id": "b27c948e",
   "metadata": {},
   "outputs": [],
   "source": [
    "hand = Hand(deck.draw(5))"
   ]
  },
  {
   "cell_type": "code",
   "execution_count": 7,
   "id": "4d67c4f5",
   "metadata": {},
   "outputs": [
    {
     "data": {
      "text/plain": [
       "Hand(Q♢, 3♢, T♤, J♧, J♡)"
      ]
     },
     "execution_count": 7,
     "metadata": {},
     "output_type": "execute_result"
    }
   ],
   "source": [
    "hand"
   ]
  },
  {
   "cell_type": "code",
   "execution_count": 8,
   "id": "ad75414d",
   "metadata": {},
   "outputs": [],
   "source": [
    "table = LookupTable()"
   ]
  },
  {
   "cell_type": "code",
   "execution_count": 9,
   "id": "6dae0c82",
   "metadata": {},
   "outputs": [
    {
     "name": "stdout",
     "output_type": "stream",
     "text": [
      "CPU times: user 29 µs, sys: 1 µs, total: 30 µs\n",
      "Wall time: 32.9 µs\n"
     ]
    },
    {
     "data": {
      "text/plain": [
       "4092"
      ]
     },
     "execution_count": 9,
     "metadata": {},
     "output_type": "execute_result"
    }
   ],
   "source": [
    "%%time\n",
    "table.find(hand)"
   ]
  },
  {
   "cell_type": "code",
   "execution_count": 10,
   "id": "65b46ddd",
   "metadata": {},
   "outputs": [],
   "source": [
    "royal_flush = Hand.from_string(\"ah kh qh jh th\")"
   ]
  },
  {
   "cell_type": "code",
   "execution_count": 11,
   "id": "95f547af",
   "metadata": {},
   "outputs": [
    {
     "name": "stdout",
     "output_type": "stream",
     "text": [
      "CPU times: user 27 µs, sys: 4 µs, total: 31 µs\n",
      "Wall time: 33.1 µs\n"
     ]
    },
    {
     "data": {
      "text/plain": [
       "1"
      ]
     },
     "execution_count": 11,
     "metadata": {},
     "output_type": "execute_result"
    }
   ],
   "source": [
    "%%time\n",
    "table.find(royal_flush.cards)"
   ]
  },
  {
   "cell_type": "code",
   "execution_count": 12,
   "id": "419aedf2",
   "metadata": {},
   "outputs": [],
   "source": [
    "cards = random.sample(deck, 6)"
   ]
  },
  {
   "cell_type": "code",
   "execution_count": 13,
   "id": "77d4e507",
   "metadata": {},
   "outputs": [
    {
     "name": "stdout",
     "output_type": "stream",
     "text": [
      "CPU times: user 43 µs, sys: 0 ns, total: 43 µs\n",
      "Wall time: 47 µs\n"
     ]
    },
    {
     "data": {
      "text/plain": [
       "4983"
      ]
     },
     "execution_count": 13,
     "metadata": {},
     "output_type": "execute_result"
    }
   ],
   "source": [
    "%%time\n",
    "table.find(cards)"
   ]
  },
  {
   "cell_type": "code",
   "execution_count": 14,
   "id": "f50ba098",
   "metadata": {},
   "outputs": [],
   "source": [
    "num_simulations = 100_000"
   ]
  },
  {
   "cell_type": "code",
   "execution_count": 15,
   "id": "a705aa6e",
   "metadata": {},
   "outputs": [],
   "source": [
    "deck = Deck()"
   ]
  },
  {
   "cell_type": "code",
   "execution_count": 16,
   "id": "d8d07fd5",
   "metadata": {},
   "outputs": [
    {
     "data": {
      "application/vnd.jupyter.widget-view+json": {
       "model_id": "358013439e424cd193e4d4cb6cdcd9cb",
       "version_major": 2,
       "version_minor": 0
      },
      "text/plain": [
       "  0%|          | 0/100000 [00:00<?, ?it/s]"
      ]
     },
     "metadata": {},
     "output_type": "display_data"
    },
    {
     "name": "stdout",
     "output_type": "stream",
     "text": [
      "CPU times: user 1.43 s, sys: 388 ms, total: 1.82 s\n",
      "Wall time: 2.19 s\n"
     ]
    }
   ],
   "source": [
    "%%time\n",
    "for _ in tqdm(range(num_simulations)):\n",
    "    cards = random.sample(deck, 7)\n",
    "    ranking = table.find(hand)"
   ]
  },
  {
   "cell_type": "code",
   "execution_count": null,
   "id": "c9d0ddc6",
   "metadata": {},
   "outputs": [],
   "source": []
  }
 ],
 "metadata": {
  "kernelspec": {
   "display_name": "Python 3 (ipykernel)",
   "language": "python",
   "name": "python3"
  },
  "language_info": {
   "codemirror_mode": {
    "name": "ipython",
    "version": 3
   },
   "file_extension": ".py",
   "mimetype": "text/x-python",
   "name": "python",
   "nbconvert_exporter": "python",
   "pygments_lexer": "ipython3",
   "version": "3.10.0"
  }
 },
 "nbformat": 4,
 "nbformat_minor": 5
}
