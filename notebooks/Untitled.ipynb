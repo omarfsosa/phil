{
 "cells": [
  {
   "cell_type": "code",
   "execution_count": 1,
   "id": "0eae6270",
   "metadata": {},
   "outputs": [],
   "source": [
    "from phil.deck import Deck, Card\n",
    "from phil.table import Table"
   ]
  },
  {
   "cell_type": "code",
   "execution_count": 2,
   "id": "1fdd533d",
   "metadata": {},
   "outputs": [],
   "source": [
    "import itertools\n",
    "import math\n",
    "import random\n",
    "\n",
    "import numpy as np\n",
    "import matplotlib.pyplot as plt\n",
    "from tqdm.notebook import tqdm"
   ]
  },
  {
   "cell_type": "code",
   "execution_count": 3,
   "id": "8c70fe12",
   "metadata": {},
   "outputs": [
    {
     "data": {
      "text/plain": [
       "1326"
      ]
     },
     "execution_count": 3,
     "metadata": {},
     "output_type": "execute_result"
    }
   ],
   "source": [
    "math.comb(52, 2)"
   ]
  },
  {
   "cell_type": "code",
   "execution_count": 4,
   "id": "2e10d8bb",
   "metadata": {},
   "outputs": [],
   "source": [
    "DECK = Deck()\n",
    "TABLE = Table()"
   ]
  },
  {
   "cell_type": "code",
   "execution_count": 5,
   "id": "c4ea08a6",
   "metadata": {},
   "outputs": [],
   "source": [
    "def discrete_distplot(samples, ax=None, **kwargs):\n",
    "    \"\"\"\n",
    "    Utility function for plotting the samples as a barplot.\n",
    "    \"\"\"\n",
    "    x, y = np.unique(samples, return_counts=True)\n",
    "    y = y / sum(y)\n",
    "    if ax is None:\n",
    "        ax = plt.gca()\n",
    "\n",
    "    ax.bar(x, y, **kwargs)\n",
    "    return ax"
   ]
  },
  {
   "cell_type": "code",
   "execution_count": 12,
   "id": "7c6a5ed5",
   "metadata": {},
   "outputs": [],
   "source": [
    "str_hand = [\"ad\", \"ah\"]\n",
    "hand = [Card.from_string(s) for s in str_hand]\n",
    "DECK = Deck()\n",
    "DECK.remove(*hand)"
   ]
  },
  {
   "cell_type": "code",
   "execution_count": 13,
   "id": "bf874fb9",
   "metadata": {},
   "outputs": [],
   "source": [
    "bins = [opt.max_ranking for opt in TABLE._OPTIONS] + [7462,]"
   ]
  },
  {
   "cell_type": "code",
   "execution_count": 14,
   "id": "de94b47e",
   "metadata": {},
   "outputs": [],
   "source": [
    "# Expected position at flop:\n",
    "num_simulations = 100_000\n",
    "results = []"
   ]
  },
  {
   "cell_type": "code",
   "execution_count": 15,
   "id": "6884247e",
   "metadata": {},
   "outputs": [],
   "source": [
    "def gen_rankings(cards):\n",
    "    all_hands = itertools.combinations(cards, 5)\n",
    "    for hand in all_hands:\n",
    "        code = TABLE.encode(hand)\n",
    "        ranking = TABLE[code]\n",
    "        yield ranking"
   ]
  },
  {
   "cell_type": "code",
   "execution_count": 16,
   "id": "798115d6",
   "metadata": {},
   "outputs": [
    {
     "data": {
      "application/vnd.jupyter.widget-view+json": {
       "model_id": "bda5a75045f94b6286742906af802adb",
       "version_major": 2,
       "version_minor": 0
      },
      "text/plain": [
       "  0%|          | 0/100000 [00:00<?, ?it/s]"
      ]
     },
     "metadata": {},
     "output_type": "display_data"
    }
   ],
   "source": [
    "ranking_flop = []\n",
    "ranking_turn = []\n",
    "ranking_river = []\n",
    "\n",
    "for _ in tqdm(range(num_simulations)):\n",
    "    *flop, turn, river, *opponent = random.sample(DECK.cards, 7)\n",
    "    # Flop:\n",
    "    all_cards = hand + flop\n",
    "    ranking_flop.extend(gen_rankings(all_cards))\n",
    "    all_cards.append(turn)\n",
    "    ranking_turn.extend(gen_rankings(all_cards))\n",
    "    all_cards.append(river)\n",
    "    ranking_river.extend(gen_rankings(all_cards))"
   ]
  },
  {
   "cell_type": "code",
   "execution_count": 17,
   "id": "20179650",
   "metadata": {},
   "outputs": [],
   "source": [
    "# hh = [Card.from_string(s) for s in [\"ad\", \"ah\", \"jh\", \"8d\", \"kc\"]]\n",
    "\n",
    "# gen_rankings(hh)"
   ]
  },
  {
   "cell_type": "code",
   "execution_count": 18,
   "id": "00c3ce39",
   "metadata": {},
   "outputs": [
    {
     "data": {
      "text/plain": [
       "(array([    0.,   235.,   996.,     0.,     0., 10852., 16061., 71856.,\n",
       "            0.]),\n",
       " array([   1,   11,  167,  323, 1600, 1610, 2468, 3326, 6186, 7462]),\n",
       " <BarContainer object of 9 artists>)"
      ]
     },
     "execution_count": 18,
     "metadata": {},
     "output_type": "execute_result"
    },
    {
     "data": {
      "image/png": "[encoded data removed]",
      "text/plain": [
       "<Figure size 432x288 with 1 Axes>"
      ]
     },
     "metadata": {
      "needs_background": "light"
     },
     "output_type": "display_data"
    }
   ],
   "source": [
    "plt.hist(ranking_flop, bins=bins)"
   ]
  },
  {
   "cell_type": "code",
   "execution_count": 19,
   "id": "dfbe55cf",
   "metadata": {},
   "outputs": [
    {
     "data": {
      "text/plain": [
       "(4287.231169047619, 3829.2136633333334, 3055.68088)"
      ]
     },
     "execution_count": 19,
     "metadata": {},
     "output_type": "execute_result"
    }
   ],
   "source": [
    "np.mean(ranking_river), np.mean(ranking_turn), np.mean(ranking_flop)"
   ]
  }
 ],
 "metadata": {
  "kernelspec": {
   "display_name": "Python 3 (ipykernel)",
   "language": "python",
   "name": "python3"
  },
  "language_info": {
   "codemirror_mode": {
    "name": "ipython",
    "version": 3
   },
   "file_extension": ".py",
   "mimetype": "text/x-python",
   "name": "python",
   "nbconvert_exporter": "python",
   "pygments_lexer": "ipython3",
   "version": "3.10.0"
  }
 },
 "nbformat": 4,
 "nbformat_minor": 5
}
